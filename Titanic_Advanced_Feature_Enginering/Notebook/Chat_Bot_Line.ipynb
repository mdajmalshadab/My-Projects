{
 "cells": [
  {
   "cell_type": "code",
   "execution_count": 1,
   "metadata": {},
   "outputs": [],
   "source": [
    "import sqlite3\n",
    "import json\n",
    "from datetime import datetime\n",
    "import time"
   ]
  },
  {
   "cell_type": "code",
   "execution_count": 2,
   "metadata": {},
   "outputs": [],
   "source": [
    "timeframe = '2015-01'\n",
    "start_row = 0\n",
    "cleanup = 1000000\n",
    "sql_transaction =[]\n",
    "conn = sqlite3.connect('{}.db'.format(timeframe))\n",
    "c= conn.cursor()"
   ]
  },
  {
   "cell_type": "code",
   "execution_count": 3,
   "metadata": {},
   "outputs": [],
   "source": [
    "def create_table():\n",
    "    c.execute(\"\"\"CREATE TABLE IF NOT EXISTS parent_reply(\n",
    "    parent_id TEXT PRIMARY KEY,\n",
    "    comment_id TEXT UNIQUE,\n",
    "    parent TEXT,\n",
    "    comment TEXT,\n",
    "    subreddit TEXT,\n",
    "    unix INT,\n",
    "    score INT)\"\"\")\n",
    "    "
   ]
  },
  {
   "cell_type": "code",
   "execution_count": 4,
   "metadata": {},
   "outputs": [],
   "source": [
    "def transaction_bldr(sql):\n",
    "    global sql_transaction\n",
    "    sql_transaction.append(sql)\n",
    "    if len(sql_transaction) > 1000:\n",
    "        c.execute('BEGIN TRANSACTION')\n",
    "        for s in sql_transaction:\n",
    "            try:\n",
    "                c.execute(s)\n",
    "            except:\n",
    "                pass\n",
    "        conn.commit()\n",
    "        sql_transactiom =[]\n",
    "    "
   ]
  },
  {
   "cell_type": "code",
   "execution_count": 5,
   "metadata": {},
   "outputs": [],
   "source": [
    "def format_data(data):\n",
    "    data = data.replace('\\n','newlinechar').replace('\\r', 'newlinechar').replace('\"', \"'\")\n",
    "    return data"
   ]
  },
  {
   "cell_type": "code",
   "execution_count": 6,
   "metadata": {},
   "outputs": [],
   "source": [
    "def find_parent(pid):\n",
    "    try:\n",
    "        c.execute(\"\"\"SELECT comment\n",
    "                    FROM parent_reply\n",
    "                    WHERE comment_id = '{}' LIMIT 1\"\"\".format(pid))\n",
    "        result = c.fetchone()\n",
    "        if result!=None:\n",
    "            return result[0]\n",
    "        else:\n",
    "            return False\n",
    "    except Exception as e:\n",
    "            #print(str(e))\n",
    "            return False\n",
    "        "
   ]
  },
  {
   "cell_type": "code",
   "execution_count": 7,
   "metadata": {},
   "outputs": [],
   "source": [
    "def find_existing_comment_score(pid):\n",
    "    try:\n",
    "        c.execute(\"\"\"SELECT score\n",
    "                    FROM parent_reply\n",
    "                    WHERE parent_id = '{}' LIMIT 1\"\"\".format(pid))\n",
    "        result = c.fetchone()\n",
    "        if result!= None:\n",
    "            return result[0]\n",
    "        else:\n",
    "            return False\n",
    "    except Exception as e:\n",
    "        #print(str(e))\n",
    "            return False\n",
    "    "
   ]
  },
  {
   "cell_type": "code",
   "execution_count": 8,
   "metadata": {},
   "outputs": [],
   "source": [
    "def acceptable_comment(data):\n",
    "    if len(data.split(' ')) > 50 or len(data) < 1:\n",
    "        return False\n",
    "    elif len(data) > 1000:\n",
    "        return False\n",
    "    elif data == '[deleted]':\n",
    "        return False\n",
    "    elif data == '[removed]':\n",
    "        return False\n",
    "    else:\n",
    "        return True"
   ]
  },
  {
   "cell_type": "code",
   "execution_count": 9,
   "metadata": {},
   "outputs": [],
   "source": [
    "def sql_insert_replace_comment(commentid, parentid, parent, comment, subreddit, time, score):\n",
    "    try:\n",
    "        sql = \"\"\"UPDATE parent_reply\n",
    "                SET parent_id = ?,\n",
    "                    comment_id = ?,\n",
    "                    parent_name = ?,\n",
    "                    parent = ?,\n",
    "                    comment = ?,\n",
    "                    subreddit = ?,\n",
    "                    unix = ?,\n",
    "                    score = ?\n",
    "                    WHERE parent_id = ?;\"\"\".format(parentid, commentid, parent, comment, subreddit, int(time), score, parentid)\n",
    "        transaction_bldr(sql)\n",
    "    except Exception as e:\n",
    "        print('s0 insertion', str(e))\n",
    "        \n",
    "    "
   ]
  },
  {
   "cell_type": "code",
   "execution_count": 10,
   "metadata": {},
   "outputs": [],
   "source": [
    "def sql_insert_has_parent(commentid, parentid, parent, comment, subreddit, time, score):\n",
    "    try:\n",
    "        sql = \"\"\"INSERT INTO parent_reply(\n",
    "                        parent_id,\n",
    "                        comment_id,\n",
    "                        parent,\n",
    "                        comment,\n",
    "                        subreddit,\n",
    "                        unix,\n",
    "                        score)\n",
    "                 VALUES (\"{}\",\"{}\",\"{}\",\"{}\",\"{}\",\"{}\",\"{}\");\"\"\".format(parentid,commentid,parent,comment,subreddit,int(time),score)\n",
    "        transaction_bldr(sql)\n",
    "    except Exception as e:\n",
    "        print('s0 insertion', str(e))"
   ]
  },
  {
   "cell_type": "code",
   "execution_count": 11,
   "metadata": {},
   "outputs": [],
   "source": [
    "def sql_insert_no_parent(commentid, parentid, comment, subreddit, time, score):\n",
    "    try:\n",
    "        sql = \"\"\"INSERT INTO parent_reply(\n",
    "                        parent_id,\n",
    "                        comment_id,\n",
    "                        comment,\n",
    "                        subreddit,\n",
    "                        unix,\n",
    "                        score)\n",
    "                 VALUES (\"{}\",\"{}\",\"{}\",\"{}\",\"{}\",\"{}\");\"\"\".format(parentid,commentid,comment,subreddit,int(time),score)\n",
    "        transaction_bldr(sql)\n",
    "    except Exception as e:\n",
    "        print('s0 insertion', str(e))"
   ]
  },
  {
   "cell_type": "code",
   "execution_count": null,
   "metadata": {},
   "outputs": [
    {
     "name": "stdout",
     "output_type": "stream",
     "text": [
      "Total Rows Read: 100000, Paired Rows: 4119, Time: 2020-09-06 08:19:10.511261\n"
     ]
    }
   ],
   "source": [
    "if __name__ == '__main__':\n",
    "    create_table()\n",
    "    row_cnt =0;\n",
    "    paired_rows =0;\n",
    "    with open('RC_{}'.format(timeframe), buffering =1000) as f:\n",
    "        for row in f:\n",
    "            row_cnt+=1\n",
    "            \n",
    "            if row_cnt > start_row:\n",
    "                try:\n",
    "                    row = json.loads(row)\n",
    "                    parent_id = row['parent_id'].split('_')[1]\n",
    "                    body = format_data(row['body'])\n",
    "                    created_utc = row['created_utc']\n",
    "                    score = row['score']\n",
    "                    comment_id = row['id']\n",
    "                    subreddit = row['subreddit']\n",
    "                    parent_data = find_parent(parent_id)\n",
    "\n",
    "                    if score>=2:\n",
    "                        existing_comment_score = find_existing_comment_score(parent_id) \n",
    "                        if existing_comment_score:\n",
    "                            if score > existing_comment_score:\n",
    "                                if acceptable_comment(body):\n",
    "                                    sql_insert_replace_comment(comment_id, parent_id, parent_data, body, subreddit, created_utc, score)\n",
    "                        else:\n",
    "                            if acceptable_comment(body):\n",
    "                                if parent_data:\n",
    "                                    sql_insert_has_parent(comment_id, parent_id, parent_data, body, subreddit, created_utc, score)\n",
    "                                    paired_rows+=1\n",
    "                                else:\n",
    "                                    sql_insert_no_parent(comment_id, parent_id, body, subreddit, created_utc, score)\n",
    "                except Exception as e:\n",
    "                            print(str(e)) \n",
    "\n",
    "            if row_cnt % 100000 == 0:\n",
    "                print('Total Rows Read: {}, Paired Rows: {}, Time: {}'.format(row_cnt, paired_rows, str(datetime.now())))\n",
    "\n",
    "            if row_cnt > start_row:\n",
    "                if row_cnt % cleanup == 0:\n",
    "                    print(\"Cleanin up!\")\n",
    "                    sql = \"DELETE FROM parent_reply WHERE parent IS NULL\"\n",
    "                    c.execute(sql)\n",
    "                    connection.commit()\n",
    "                    c.execute(\"VACUUM\")\n",
    "                    connection.commit()\n"
   ]
  },
  {
   "cell_type": "code",
   "execution_count": null,
   "metadata": {},
   "outputs": [],
   "source": []
  }
 ],
 "metadata": {
  "kernelspec": {
   "display_name": "Python 3",
   "language": "python",
   "name": "python3"
  },
  "language_info": {
   "codemirror_mode": {
    "name": "ipython",
    "version": 3
   },
   "file_extension": ".py",
   "mimetype": "text/x-python",
   "name": "python",
   "nbconvert_exporter": "python",
   "pygments_lexer": "ipython3",
   "version": "3.7.3"
  }
 },
 "nbformat": 4,
 "nbformat_minor": 2
}
